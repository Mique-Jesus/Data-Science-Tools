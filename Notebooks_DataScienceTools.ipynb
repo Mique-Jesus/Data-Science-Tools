{
  "metadata": {
    "language_info": {
      "codemirror_mode": {
        "name": "python",
        "version": 3
      },
      "file_extension": ".py",
      "mimetype": "text/x-python",
      "name": "python",
      "nbconvert_exporter": "python",
      "pygments_lexer": "ipython3",
      "version": "3.8"
    },
    "kernelspec": {
      "name": "python",
      "display_name": "Python (Pyodide)",
      "language": "python"
    }
  },
  "nbformat_minor": 4,
  "nbformat": 4,
  "cells": [
    {
      "cell_type": "markdown",
      "source": "# Data Science Tools and Ecosystem",
      "metadata": {}
    },
    {
      "cell_type": "markdown",
      "source": "##### *In this notebook, Data Science Tools and Ecosystem are summarized.*\n",
      "metadata": {}
    },
    {
      "cell_type": "markdown",
      "source": "___",
      "metadata": {}
    },
    {
      "cell_type": "markdown",
      "source": "\n**Objectives:**\n\n-List popular languages for Data Science.\n\n-Present most used libraries for Data Science.\n\n-Organize and classify Devevolpment Enviroments for Data Science.",
      "metadata": {}
    },
    {
      "cell_type": "markdown",
      "source": "_____________________________________________________________\n",
      "metadata": {}
    },
    {
      "cell_type": "markdown",
      "source": "**PROGRAMMING LANGUAGES**\n\nA programming language in data science is a formalized system of syntax and rules that allows data scientists, analysts, and researchers to write code to perform various data-related tasks, including data manipulation, analysis, visualization, and machine learning. Programming languages are used to communicate with computers and give them instructions on how to process and manipulate data. Here's a list of some prominent programming languages used in data science:\n\n<br>\n    \n**1. Python:** One of the most popular languages for data science due to its extensive libraries and tools like NumPy, pandas, scikit-learn, TensorFlow, and PyTorch.\n\n**2. R:** Designed specifically for statistics and data analysis, R has a wide range of packages for data manipulation, visualization, and modeling.\n\n**3. SQL:** While not a general-purpose programming language, SQL (Structured Query Language) is crucial for working with databases and performing data retrieval and manipulation.\n\n**4. Julia:** Known for its high-performance capabilities, Julia is gaining traction in the data science community for tasks that require complex numerical computations.\n\n**5. Java:** Although not as common as Python or R, Java can be used for data science, especially in big data applications and building data processing pipelines.\n\n**6. Scala:** Often used in conjunction with Apache Spark, Scala is a versatile language for large-scale data processing and analytics.\n\n**7. Pig Latin:** A scripting language used with Apache Hadoop for processing and analyzing large datasets.\n\n**8. Perl:** Perl is versatile and has been used historically for text processing and data manipulation tasks in bioinformatics and other fields.",
      "metadata": {}
    },
    {
      "cell_type": "markdown",
      "source": "___",
      "metadata": {}
    },
    {
      "cell_type": "markdown",
      "source": "**LIBRARIES**\n\nIn the context of data science, a library refers to a collection of pre-written code, functions, modules, and tools that are designed to perform specific tasks. These libraries are created to make it easier for data scientists, analysts, and developers to work with data, perform analyses, and build machine learning models without having to write everything from scratch. Here are some commonly used libraries in the data science field:\n\n<br>\n\n**Python**\n\n**1. NumPy:** Provides support for large, multi-dimensional arrays and matrices, along with mathematical functions to operate on these arrays efficiently.\n\n**2. pandas:** Offers data structures and functions to manipulate and analyze structured data, including tools for data cleaning, transformation, and exploration.\n\n**3. Matplotlib:** A 2D plotting library that produces static, animated, and interactive visualizations in Python.\n\n**4. seaborn:** Built on top of Matplotlib, seaborn provides a high-level interface for creating attractive and informative statistical graphics.\n\n**5. scikit-learn:** A widely used machine learning library that includes a variety of algorithms for classification, regression, clustering, dimensionality reduction, and more.\n\n**6. TensorFlow:** An open-source machine learning framework developed by Google, widely used for building and training neural networks.\n\n**7. Keras:** An API that runs on top of frameworks like TensorFlow, simplifying the process of building and training deep learning models.\n\n**8. PyTorch:** Another popular open-source deep learning framework known for its flexibility and dynamic computation graph.\n\n**9. NLTK:** The Natural Language Toolkit provides tools and resources for working with human language data (text) and performing tasks like tokenization, stemming, and more.\n\n**10. spaCy:** A library designed for natural language processing tasks, with a focus on efficiency and ease of use. \n\n<br>\n\n**R**\n\n**1. dplyr:** A grammar of data manipulation, offering a set of functions for transforming and summarizing data.\n\n**2. ggplot2:** A powerful and flexible data visualization package that follows the \"Grammar of Graphics\" paradigm.\n\n**3. caret:** Provides tools for training and evaluating machine learning models, along with functions for data preprocessing and resampling.\n\n**4. tidyr:** Helps in tidying and reshaping data, making it easier to work with in analysis and visualization.\n\n**5. tm:** Text Mining package in R for preprocessing and analyzing textual data.\n",
      "metadata": {}
    },
    {
      "cell_type": "markdown",
      "source": "___",
      "metadata": {}
    },
    {
      "cell_type": "markdown",
      "source": "**DEVELOPMENT ENVIROMENTS**\n\nData scientists often work in specialized *Integrated Development Environments (IDEs)* that are tailored to their tasks. A development environment in data science refers to a specialized software environment that provides tools, interfaces, and features to facilitate the entire data science workflow, from data acquisition and preprocessing to analysis, modeling, and visualization. It's a platform where data scientists can write, test, and manage their code and analysis processes efficiently. \n\nHere are some popular development environments used in data science:\n\n|IDE's | Description | Support Type | Profit <br> Type |\n| ------ | ------ | ------ | ------ | \n| Jupyter Notebooks | Jupyter notebooks provide an interactive environment for writing code, visualizing data, and explaining analysis step-by-step. | Server-Based | Open Source |\n| JupyterLab | JupyterLab is an improved version that offers a more integrated workspace with support for notebooks, code consoles, and more. | Server-Based | Open Source |\n| RStudio | RStudio is an IDE specifically designed for R programming. It offers a user-friendly interface for coding, data visualization, and package management. | Server-Based | Open Source |\n| PyCharm | While originally designed for general Python development, PyCharm has features and plugins that cater to data scientists. It offers code completion, debugging, and integration with various data science libraries. | Server-Based | Open Source |\n| Spyder | An IDE tailored for scientific and data analysis. It integrates well with libraries like NumPy, pandas, and Matplotlib, and provides a MATLAB-like interface. | Server-Based | Open Source |\n| IBM Watson Studio Desktop | Server-Based platform designed for collaborative data science and machine learning projects. It offers tools for data exploration, model building, and deployment. Also have a Cloud-Based version. | Server-Based | Commercial |\n| Google Colab | Platform that provides free access to Jupyter notebooks along with access to Google's GPUs for accelerated computation. | Web-<br>Based | Open Source |\n| Jupyter Lite | This is a lightweight version of Jupyter Notebook that runs entirely in the browser. It is built from the ground up using JupyterLab components and extensions, and it is designed to be easy to deploy and share. Jupyter Lite is a good option for data scientists who want to share their work with others without having to install any software. | Web-<br>Based | Open Source |",
      "metadata": {}
    },
    {
      "cell_type": "markdown",
      "source": "___",
      "metadata": {}
    },
    {
      "cell_type": "markdown",
      "source": "### Below are a few examples of evaluating arithmetic expressions in Python",
      "metadata": {}
    },
    {
      "cell_type": "code",
      "source": "# This a simple arithmetic expression to mutiply then add integers\n(3*4)+5",
      "metadata": {
        "trusted": true
      },
      "execution_count": 1,
      "outputs": [
        {
          "execution_count": 1,
          "output_type": "execute_result",
          "data": {
            "text/plain": "17"
          },
          "metadata": {}
        }
      ]
    },
    {
      "cell_type": "code",
      "source": "# This will convert 200 minutes to hours by diving by 60\n200/60",
      "metadata": {
        "trusted": true
      },
      "execution_count": 2,
      "outputs": [
        {
          "execution_count": 2,
          "output_type": "execute_result",
          "data": {
            "text/plain": "3.3333333333333335"
          },
          "metadata": {}
        }
      ]
    },
    {
      "cell_type": "markdown",
      "source": "____",
      "metadata": {}
    },
    {
      "cell_type": "markdown",
      "source": "## Author\n\n[Miguel Jesus](https://www.linkedin.com/in/migueljesuscor/) ",
      "metadata": {}
    }
  ]
}